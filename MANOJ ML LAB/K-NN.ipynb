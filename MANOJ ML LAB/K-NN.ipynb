{
 "cells": [
  {
   "cell_type": "markdown",
   "metadata": {},
   "source": [
    "K-NEAREST NEIGHBOUR ALGORITHM"
   ]
  },
  {
   "cell_type": "code",
   "execution_count": 1,
   "metadata": {},
   "outputs": [],
   "source": [
    "from sklearn.datasets import load_iris\n",
    "from sklearn.neighbors import KNeighborsClassifier\n",
    "from sklearn.model_selection import train_test_split\n",
    "import numpy as np"
   ]
  },
  {
   "cell_type": "code",
   "execution_count": 2,
   "metadata": {},
   "outputs": [],
   "source": [
    "dataset=load_iris()\n",
    "X_train,X_test,y_train,y_test=train_test_split(dataset[\"data\"],dataset[\"target\"],random_state=0)\n"
   ]
  },
  {
   "cell_type": "code",
   "execution_count": 3,
   "metadata": {},
   "outputs": [
    {
     "data": {
      "text/plain": [
       "KNeighborsClassifier(n_neighbors=1)"
      ]
     },
     "execution_count": 3,
     "metadata": {},
     "output_type": "execute_result"
    }
   ],
   "source": [
    "kn=KNeighborsClassifier(n_neighbors=1)\n",
    "kn.fit(X_train,y_train)"
   ]
  },
  {
   "cell_type": "code",
   "execution_count": 4,
   "metadata": {
    "scrolled": true
   },
   "outputs": [
    {
     "name": "stdout",
     "output_type": "stream",
     "text": [
      "TARGET= 2 virginica PREDICTED= [2] ['virginica']\n",
      "TARGET= 1 versicolor PREDICTED= [1] ['versicolor']\n",
      "TARGET= 0 setosa PREDICTED= [0] ['setosa']\n",
      "TARGET= 2 virginica PREDICTED= [2] ['virginica']\n",
      "TARGET= 0 setosa PREDICTED= [0] ['setosa']\n",
      "TARGET= 2 virginica PREDICTED= [2] ['virginica']\n",
      "TARGET= 0 setosa PREDICTED= [0] ['setosa']\n",
      "TARGET= 1 versicolor PREDICTED= [1] ['versicolor']\n",
      "TARGET= 1 versicolor PREDICTED= [1] ['versicolor']\n",
      "TARGET= 1 versicolor PREDICTED= [1] ['versicolor']\n",
      "TARGET= 2 virginica PREDICTED= [2] ['virginica']\n",
      "TARGET= 1 versicolor PREDICTED= [1] ['versicolor']\n",
      "TARGET= 1 versicolor PREDICTED= [1] ['versicolor']\n",
      "TARGET= 1 versicolor PREDICTED= [1] ['versicolor']\n",
      "TARGET= 1 versicolor PREDICTED= [1] ['versicolor']\n",
      "TARGET= 0 setosa PREDICTED= [0] ['setosa']\n",
      "TARGET= 1 versicolor PREDICTED= [1] ['versicolor']\n",
      "TARGET= 1 versicolor PREDICTED= [1] ['versicolor']\n",
      "TARGET= 0 setosa PREDICTED= [0] ['setosa']\n",
      "TARGET= 0 setosa PREDICTED= [0] ['setosa']\n",
      "TARGET= 2 virginica PREDICTED= [2] ['virginica']\n",
      "TARGET= 1 versicolor PREDICTED= [1] ['versicolor']\n",
      "TARGET= 0 setosa PREDICTED= [0] ['setosa']\n",
      "TARGET= 0 setosa PREDICTED= [0] ['setosa']\n",
      "TARGET= 2 virginica PREDICTED= [2] ['virginica']\n",
      "TARGET= 0 setosa PREDICTED= [0] ['setosa']\n",
      "TARGET= 0 setosa PREDICTED= [0] ['setosa']\n",
      "TARGET= 1 versicolor PREDICTED= [1] ['versicolor']\n",
      "TARGET= 1 versicolor PREDICTED= [1] ['versicolor']\n",
      "TARGET= 0 setosa PREDICTED= [0] ['setosa']\n",
      "TARGET= 2 virginica PREDICTED= [2] ['virginica']\n",
      "TARGET= 1 versicolor PREDICTED= [1] ['versicolor']\n",
      "TARGET= 0 setosa PREDICTED= [0] ['setosa']\n",
      "TARGET= 2 virginica PREDICTED= [2] ['virginica']\n",
      "TARGET= 2 virginica PREDICTED= [2] ['virginica']\n",
      "TARGET= 1 versicolor PREDICTED= [1] ['versicolor']\n",
      "TARGET= 0 setosa PREDICTED= [0] ['setosa']\n",
      "TARGET= 1 versicolor PREDICTED= [2] ['virginica']\n",
      "0.9736842105263158\n"
     ]
    }
   ],
   "source": [
    "for i in range(len(X_test)):\n",
    "    x=X_test[i]\n",
    "    x_new=np.array([x]) \n",
    "    prediction=kn.predict(x_new)\n",
    "    print(\"TARGET=\",y_test[i],dataset[\"target_names\"][y_test[i]],\"PREDICTED=\",prediction,dataset[\"target_names\"][prediction])\n",
    "print(kn.score(X_test,y_test))"
   ]
  },
  {
   "cell_type": "code",
   "execution_count": null,
   "metadata": {},
   "outputs": [],
   "source": []
  }
 ],
 "metadata": {
  "kernelspec": {
   "display_name": "Python 3 (ipykernel)",
   "language": "python",
   "name": "python3"
  },
  "language_info": {
   "codemirror_mode": {
    "name": "ipython",
    "version": 3
   },
   "file_extension": ".py",
   "mimetype": "text/x-python",
   "name": "python",
   "nbconvert_exporter": "python",
   "pygments_lexer": "ipython3",
   "version": "3.9.12"
  }
 },
 "nbformat": 4,
 "nbformat_minor": 2
}
